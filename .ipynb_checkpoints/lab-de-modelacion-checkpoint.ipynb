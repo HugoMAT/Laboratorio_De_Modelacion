{
 "cells": [
  {
   "cell_type": "code",
   "execution_count": 16,
   "metadata": {},
   "outputs": [],
   "source": [
    "import sys\n",
    "from string import ascii_uppercase\n",
    "import itertools\n",
    "import io\n",
    "import copy\n",
    "import time\n",
    "import matplotlib.ticker as ticker\n",
    "import random\n",
    "import pandas as pd\n",
    "import matplotlib.pyplot as plt\n",
    "import warnings\n",
    "warnings.filterwarnings(\"ignore\")"
   ]
  },
  {
   "cell_type": "code",
   "execution_count": 17,
   "metadata": {},
   "outputs": [],
   "source": [
    "def isLeft(P0, P1, P2):\n",
    "    return ((P1[0] - P0[0]) * (P2[1] - P0[1]) - (P2[0] - P0[0]) * (P1[1] - P0[1]))\n",
    "def wn_PnPoly(P, V):\n",
    "    n = len(V)-1\n",
    "    wn= 0    \n",
    "    i = 0\n",
    "    while i<n: \n",
    "        if V[i][1] <= P[1]:\n",
    "            \n",
    "            if V[i+1][1]  > P[1]:   \n",
    "                if isLeft(V[i], V[i+1], P) > 0: \n",
    "                      wn += 1            \n",
    "        else:                        \n",
    "              if V[i+1][1] <= P[1]:     \n",
    "                if isLeft(V[i], V[i+1], P) < 0: \n",
    "                      wn -= 1           \n",
    "\n",
    "        i += 1\n",
    "  \n",
    "  #print str(wn)\n",
    "    return wn;"
   ]
  },
  {
   "cell_type": "code",
   "execution_count": 18,
   "metadata": {},
   "outputs": [],
   "source": [
    "#test_polygon2 = [ (0,1), (1,1), (1,2), (2,2), (2,3), (3,3), (3,2), (4,0), (5,9), (6,0), \n",
    "            #  (7,2), (8,0), (8,-2), (7,-3), (6,-2), (5,-2), (4,-2), (3,-1), (2,-2), (1,-2), \n",
    "            #  (0,-3), (-2,-3), (-3,-4), (-4,-3), (-5,-3), (-5,-2), (-4,-2), (-4,.5), (-5,.5), (-5,1), \n",
    "              #(-4,1), (-4,2), (-4,4), (-3,4), (-3,2), (-2,2), (-2,0), (-1,1), (0,1) ]\n",
    "#test_polygon2 = [ (0,0),(-8,4),(-4,12),(13,10),(8,2),(-2,4),(6,6), (2,8), (0,0)]\n",
    "test_polygon2 = [ (2,4),(10,12),(20,4),(8,2),(10,8),(14,6),(2,4)]"
   ]
  },
  {
   "cell_type": "code",
   "execution_count": 19,
   "metadata": {},
   "outputs": [],
   "source": [
    "b=list()\n",
    "k=len(test_polygon2)\n",
    "for i in range(1,k):\n",
    "    m=(test_polygon2[i%k][1]-test_polygon2[(i-1)%k][1])/(test_polygon2[i%k][0]-test_polygon2[(i-1)%k][0])\n",
    "    n=(test_polygon2[i%k][1]-m*test_polygon2[i%k][0])\n",
    "    b.append((m,n))"
   ]
  },
  {
   "cell_type": "code",
   "execution_count": 20,
   "metadata": {},
   "outputs": [
    {
     "data": {
      "text/html": [
       "<div>\n",
       "<style scoped>\n",
       "    .dataframe tbody tr th:only-of-type {\n",
       "        vertical-align: middle;\n",
       "    }\n",
       "\n",
       "    .dataframe tbody tr th {\n",
       "        vertical-align: top;\n",
       "    }\n",
       "\n",
       "    .dataframe thead th {\n",
       "        text-align: right;\n",
       "    }\n",
       "</style>\n",
       "<table border=\"1\" class=\"dataframe\">\n",
       "  <thead>\n",
       "    <tr style=\"text-align: right;\">\n",
       "      <th></th>\n",
       "      <th>pendiente</th>\n",
       "      <th>intersepto</th>\n",
       "      <th>punto_1</th>\n",
       "      <th>punto_2</th>\n",
       "    </tr>\n",
       "  </thead>\n",
       "  <tbody>\n",
       "    <tr>\n",
       "      <th>0</th>\n",
       "      <td>1.000000</td>\n",
       "      <td>2.000000</td>\n",
       "      <td>(2, 4)</td>\n",
       "      <td>(10, 12)</td>\n",
       "    </tr>\n",
       "    <tr>\n",
       "      <th>1</th>\n",
       "      <td>-0.800000</td>\n",
       "      <td>20.000000</td>\n",
       "      <td>(10, 12)</td>\n",
       "      <td>(20, 4)</td>\n",
       "    </tr>\n",
       "    <tr>\n",
       "      <th>2</th>\n",
       "      <td>0.166667</td>\n",
       "      <td>0.666667</td>\n",
       "      <td>(20, 4)</td>\n",
       "      <td>(8, 2)</td>\n",
       "    </tr>\n",
       "    <tr>\n",
       "      <th>3</th>\n",
       "      <td>3.000000</td>\n",
       "      <td>-22.000000</td>\n",
       "      <td>(8, 2)</td>\n",
       "      <td>(10, 8)</td>\n",
       "    </tr>\n",
       "    <tr>\n",
       "      <th>4</th>\n",
       "      <td>-0.500000</td>\n",
       "      <td>13.000000</td>\n",
       "      <td>(10, 8)</td>\n",
       "      <td>(14, 6)</td>\n",
       "    </tr>\n",
       "    <tr>\n",
       "      <th>5</th>\n",
       "      <td>0.166667</td>\n",
       "      <td>3.666667</td>\n",
       "      <td>(14, 6)</td>\n",
       "      <td>(2, 4)</td>\n",
       "    </tr>\n",
       "  </tbody>\n",
       "</table>\n",
       "</div>"
      ],
      "text/plain": [
       "   pendiente  intersepto   punto_1   punto_2\n",
       "0   1.000000    2.000000    (2, 4)  (10, 12)\n",
       "1  -0.800000   20.000000  (10, 12)   (20, 4)\n",
       "2   0.166667    0.666667   (20, 4)    (8, 2)\n",
       "3   3.000000  -22.000000    (8, 2)   (10, 8)\n",
       "4  -0.500000   13.000000   (10, 8)   (14, 6)\n",
       "5   0.166667    3.666667   (14, 6)    (2, 4)"
      ]
     },
     "execution_count": 20,
     "metadata": {},
     "output_type": "execute_result"
    }
   ],
   "source": [
    "rectas=pd.DataFrame(b)\n",
    "rectas.columns=['pendiente','intersepto']\n",
    "rectas['punto_1']=test_polygon2[0:len(test_polygon2)-1]\n",
    "rectas['punto_2']=test_polygon2[1:len(test_polygon2)]\n",
    "rectas"
   ]
  },
  {
   "cell_type": "code",
   "execution_count": 21,
   "metadata": {},
   "outputs": [
    {
     "data": {
      "text/plain": [
       "[(9.059, 5.176)]"
      ]
     },
     "execution_count": 21,
     "metadata": {},
     "output_type": "execute_result"
    }
   ],
   "source": [
    "from itertools import combinations\n",
    "intersecciones=list()\n",
    "combine=combinations(list(range(0,len(rectas))),r= 2)\n",
    "for i in combine:\n",
    "    interx=(rectas.intersepto[i[1]]-rectas.intersepto[i[0]])/(rectas.pendiente[i[0]]-rectas.pendiente[i[1]])\n",
    "    intery=rectas.pendiente[i[1]]*interx+rectas.intersepto[i[1]]\n",
    "    if (rectas.punto_1[i[0]][0]<interx<rectas.punto_2[i[0]][0] or rectas.punto_2[i[0]][0]<interx<rectas.punto_1[i[0]][0]) and  (rectas.punto_1[i[1]][0]<interx<rectas.punto_2[i[1]][0] or rectas.punto_2[i[1]][0]<interx<rectas.punto_1[i[1]][0]) and (rectas.punto_1[i[0]][1]<intery<rectas.punto_2[i[0]][1] or rectas.punto_2[i[0]][1]<intery<rectas.punto_1[i[0]][1] ) and ( rectas.punto_1[i[1]][1]<intery<rectas.punto_2[i[1]][1] or rectas.punto_2[i[1]][1]<intery<rectas.punto_1[i[1]][1] )  :\n",
    "        intersecciones.append((interx.round(3),intery.round(3)))\n",
    "intersecciones    "
   ]
  },
  {
   "cell_type": "code",
   "execution_count": 22,
   "metadata": {},
   "outputs": [],
   "source": [
    "L_X=list()\n",
    "L_Y=list()\n",
    "for i in range(len(test_polygon2)-1):\n",
    "    L_X.append(rectas['punto_1'][i][0])\n",
    "    L_Y.append(rectas['punto_1'][i][1])\n",
    "x_limsup=max(L_X)   \n",
    "x_liminf=min(L_X)\n",
    "y_limsup=max(L_Y)\n",
    "y_liminf=min(L_Y)"
   ]
  },
  {
   "cell_type": "code",
   "execution_count": 23,
   "metadata": {},
   "outputs": [],
   "source": [
    "\n",
    "test_polygon4=list()\n",
    "random.seed(1389)\n",
    "i = 0\n",
    "t = time.perf_counter()\n",
    "while i < 900000:\n",
    "    testpoint = (0.01*random.randrange(x_liminf*100, x_limsup*100), 0.01*random.randrange(y_liminf*100, y_limsup*100))\n",
    "    wn=wn_PnPoly(testpoint, test_polygon2)\n",
    "    if wn != 0 :\n",
    "        test_polygon4.append(testpoint)\n",
    "    i += 1  "
   ]
  },
  {
   "cell_type": "code",
   "execution_count": 25,
   "metadata": {},
   "outputs": [
    {
     "data": {
      "text/plain": [
       "Text(0, 0.5, 'y')"
      ]
     },
     "execution_count": 25,
     "metadata": {},
     "output_type": "execute_result"
    },
    {
     "data": {
      "image/png": "[encoded data removed]",
      "text/plain": [
       "<Figure size 720x720 with 1 Axes>"
      ]
     },
     "metadata": {
      "needs_background": "light"
     },
     "output_type": "display_data"
    }
   ],
   "source": [
    "test_polygon5=pd.DataFrame(test_polygon4)\n",
    "x=test_polygon5.iloc[:,0]\n",
    "y=test_polygon5.iloc[:,1]\n",
    "#print(data)\n",
    "fig = plt.figure(figsize=(10, 10)) \n",
    "plt.plot(x,y,\"ro\")\n",
    "plt.ylim(y_liminf-1,y_limsup+1)\n",
    "plt.xlim(x_liminf-1,x_limsup+1)\n",
    "plt.xlabel(\"x\")\n",
    "plt.ylabel(\"y\")"
   ]
  },
  {
   "cell_type": "code",
   "execution_count": null,
   "metadata": {},
   "outputs": [],
   "source": []
  }
 ],
 "metadata": {
  "kernelspec": {
   "display_name": "Python 3",
   "language": "python",
   "name": "python3"
  },
  "language_info": {
   "codemirror_mode": {
    "name": "ipython",
    "version": 3
   },
   "file_extension": ".py",
   "mimetype": "text/x-python",
   "name": "python",
   "nbconvert_exporter": "python",
   "pygments_lexer": "ipython3",
   "version": "3.8.5"
  }
 },
 "nbformat": 4,
 "nbformat_minor": 4
}
